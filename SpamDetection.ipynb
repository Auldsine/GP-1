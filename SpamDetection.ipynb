{
  "cells": [
    {
      "cell_type": "markdown",
      "metadata": {
        "colab_type": "text",
        "id": "view-in-github"
      },
      "source": [
        "<a href=\"https://colab.research.google.com/github/RamyaVidiyala/SpamDetectionInEmails/blob/master/SpamDetection.ipynb\" target=\"_parent\"><img src=\"https://colab.research.google.com/assets/colab-badge.svg\" alt=\"Open In Colab\"/></a>"
      ]
    },
    {
      "cell_type": "code",
      "execution_count": 1,
      "metadata": {
        "colab": {
          "base_uri": "https://localhost:8080/",
          "height": 72
        },
        "colab_type": "code",
        "id": "UBGPH0VtIyxr",
        "outputId": "30a56873-8714-4926-d6dc-b00e3c0de19e"
      },
      "outputs": [],
      "source": [
        "import pandas as pd\n",
        "import re\n",
        "import string\n",
        "import numpy as np\n",
        "from sklearn.feature_extraction._stop_words import ENGLISH_STOP_WORDS\n",
        "\n",
        "# Edit\n",
        "# import csv"
      ]
    },
    {
      "cell_type": "code",
      "execution_count": 2,
      "metadata": {
        "colab": {},
        "colab_type": "code",
        "id": "wB9EGf7fIyxw"
      },
      "outputs": [],
      "source": [
        "data = pd.read_csv(\"spam.csv\",encoding = \"'latin'\")"
      ]
    },
    {
      "cell_type": "code",
      "execution_count": 3,
      "metadata": {
        "colab": {
          "base_uri": "https://localhost:8080/",
          "height": 200
        },
        "colab_type": "code",
        "id": "zWG8DrwIIyxy",
        "outputId": "58e505e4-49cc-4ab1-c36c-a174fca52060"
      },
      "outputs": [
        {
          "data": {
            "text/html": [
              "<div>\n",
              "<style scoped>\n",
              "    .dataframe tbody tr th:only-of-type {\n",
              "        vertical-align: middle;\n",
              "    }\n",
              "\n",
              "    .dataframe tbody tr th {\n",
              "        vertical-align: top;\n",
              "    }\n",
              "\n",
              "    .dataframe thead th {\n",
              "        text-align: right;\n",
              "    }\n",
              "</style>\n",
              "<table border=\"1\" class=\"dataframe\">\n",
              "  <thead>\n",
              "    <tr style=\"text-align: right;\">\n",
              "      <th></th>\n",
              "      <th>v1</th>\n",
              "      <th>v2</th>\n",
              "      <th>Unnamed: 2</th>\n",
              "      <th>Unnamed: 3</th>\n",
              "      <th>Unnamed: 4</th>\n",
              "    </tr>\n",
              "  </thead>\n",
              "  <tbody>\n",
              "    <tr>\n",
              "      <th>5567</th>\n",
              "      <td>spam</td>\n",
              "      <td>This is the 2nd time we have tried 2 contact u...</td>\n",
              "      <td>NaN</td>\n",
              "      <td>NaN</td>\n",
              "      <td>NaN</td>\n",
              "    </tr>\n",
              "    <tr>\n",
              "      <th>5568</th>\n",
              "      <td>ham</td>\n",
              "      <td>Will Ã_ b going to esplanade fr home?</td>\n",
              "      <td>NaN</td>\n",
              "      <td>NaN</td>\n",
              "      <td>NaN</td>\n",
              "    </tr>\n",
              "    <tr>\n",
              "      <th>5569</th>\n",
              "      <td>ham</td>\n",
              "      <td>Pity, * was in mood for that. So...any other s...</td>\n",
              "      <td>NaN</td>\n",
              "      <td>NaN</td>\n",
              "      <td>NaN</td>\n",
              "    </tr>\n",
              "    <tr>\n",
              "      <th>5570</th>\n",
              "      <td>ham</td>\n",
              "      <td>The guy did some bitching but I acted like i'd...</td>\n",
              "      <td>NaN</td>\n",
              "      <td>NaN</td>\n",
              "      <td>NaN</td>\n",
              "    </tr>\n",
              "    <tr>\n",
              "      <th>5571</th>\n",
              "      <td>ham</td>\n",
              "      <td>Rofl. Its true to its name</td>\n",
              "      <td>NaN</td>\n",
              "      <td>NaN</td>\n",
              "      <td>NaN</td>\n",
              "    </tr>\n",
              "  </tbody>\n",
              "</table>\n",
              "</div>"
            ],
            "text/plain": [
              "        v1                                                 v2 Unnamed: 2  \\\n",
              "5567  spam  This is the 2nd time we have tried 2 contact u...        NaN   \n",
              "5568   ham             Will Ã_ b going to esplanade fr home?        NaN   \n",
              "5569   ham  Pity, * was in mood for that. So...any other s...        NaN   \n",
              "5570   ham  The guy did some bitching but I acted like i'd...        NaN   \n",
              "5571   ham                         Rofl. Its true to its name        NaN   \n",
              "\n",
              "     Unnamed: 3 Unnamed: 4  \n",
              "5567        NaN        NaN  \n",
              "5568        NaN        NaN  \n",
              "5569        NaN        NaN  \n",
              "5570        NaN        NaN  \n",
              "5571        NaN        NaN  "
            ]
          },
          "execution_count": 3,
          "metadata": {},
          "output_type": "execute_result"
        }
      ],
      "source": [
        "data.tail()\n"
      ]
    },
    {
      "cell_type": "code",
      "execution_count": 4,
      "metadata": {
        "colab": {},
        "colab_type": "code",
        "id": "XDo-2eunIyx2"
      },
      "outputs": [],
      "source": [
        "data[\"text\"] = data.v2\n",
        "data[\"spam\"] = data.v1\n"
      ]
    },
    {
      "cell_type": "markdown",
      "metadata": {
        "colab_type": "text",
        "id": "sOgIC9vgIyx5"
      },
      "source": [
        "# Splitting data"
      ]
    },
    {
      "cell_type": "code",
      "execution_count": 5,
      "metadata": {
        "colab": {},
        "colab_type": "code",
        "id": "CKqqW3y0Iyx5"
      },
      "outputs": [
        {
          "data": {
            "text/plain": [
              "5056    Hey next sun 1030 there's a basic yoga course....\n",
              "3291               Dear good morning how you feeling dear\n",
              "1274    Let me know how to contact you. I've you settl...\n",
              "473     Want 2 get laid tonight? Want real Dogging loc...\n",
              "2726       No i am not having not any movies in my laptop\n",
              "Name: text, dtype: object"
            ]
          },
          "execution_count": 5,
          "metadata": {},
          "output_type": "execute_result"
        }
      ],
      "source": [
        "from sklearn.model_selection import train_test_split\n",
        "emails_train, emails_test, target_train, target_test = train_test_split(data.text,data.spam,test_size = 0.2)\n",
        "\n",
        "emails_test.tail()\n",
        "\n"
      ]
    },
    {
      "cell_type": "code",
      "execution_count": 6,
      "metadata": {
        "colab": {
          "base_uri": "https://localhost:8080/",
          "height": 266
        },
        "colab_type": "code",
        "id": "FhaVY-xSIyx8",
        "outputId": "7906aa91-2687-4dba-b4d2-138053e92d76"
      },
      "outputs": [
        {
          "data": {
            "text/plain": [
              "<bound method DataFrame.info of         v1                                                 v2 Unnamed: 2  \\\n",
              "0      ham  Go until jurong point, crazy.. Available only ...        NaN   \n",
              "1      ham                      Ok lar... Joking wif u oni...        NaN   \n",
              "2     spam  Free entry in 2 a wkly comp to win FA Cup fina...        NaN   \n",
              "3      ham  U dun say so early hor... U c already then say...        NaN   \n",
              "4      ham  Nah I don't think he goes to usf, he lives aro...        NaN   \n",
              "...    ...                                                ...        ...   \n",
              "5567  spam  This is the 2nd time we have tried 2 contact u...        NaN   \n",
              "5568   ham             Will Ã_ b going to esplanade fr home?        NaN   \n",
              "5569   ham  Pity, * was in mood for that. So...any other s...        NaN   \n",
              "5570   ham  The guy did some bitching but I acted like i'd...        NaN   \n",
              "5571   ham                         Rofl. Its true to its name        NaN   \n",
              "\n",
              "     Unnamed: 3 Unnamed: 4                                               text  \\\n",
              "0           NaN        NaN  Go until jurong point, crazy.. Available only ...   \n",
              "1           NaN        NaN                      Ok lar... Joking wif u oni...   \n",
              "2           NaN        NaN  Free entry in 2 a wkly comp to win FA Cup fina...   \n",
              "3           NaN        NaN  U dun say so early hor... U c already then say...   \n",
              "4           NaN        NaN  Nah I don't think he goes to usf, he lives aro...   \n",
              "...         ...        ...                                                ...   \n",
              "5567        NaN        NaN  This is the 2nd time we have tried 2 contact u...   \n",
              "5568        NaN        NaN             Will Ã_ b going to esplanade fr home?   \n",
              "5569        NaN        NaN  Pity, * was in mood for that. So...any other s...   \n",
              "5570        NaN        NaN  The guy did some bitching but I acted like i'd...   \n",
              "5571        NaN        NaN                         Rofl. Its true to its name   \n",
              "\n",
              "      spam  \n",
              "0      ham  \n",
              "1      ham  \n",
              "2     spam  \n",
              "3      ham  \n",
              "4      ham  \n",
              "...    ...  \n",
              "5567  spam  \n",
              "5568   ham  \n",
              "5569   ham  \n",
              "5570   ham  \n",
              "5571   ham  \n",
              "\n",
              "[5572 rows x 7 columns]>"
            ]
          },
          "execution_count": 6,
          "metadata": {},
          "output_type": "execute_result"
        }
      ],
      "source": [
        "data.info\n"
      ]
    },
    {
      "cell_type": "code",
      "execution_count": 7,
      "metadata": {
        "colab": {
          "base_uri": "https://localhost:8080/",
          "height": 35
        },
        "colab_type": "code",
        "id": "u_7DJm1kIyx-",
        "outputId": "b45844ac-0b99-4a58-dea7-7ba2d5cd7aac"
      },
      "outputs": [
        {
          "data": {
            "text/plain": [
              "(4457,)"
            ]
          },
          "execution_count": 7,
          "metadata": {},
          "output_type": "execute_result"
        }
      ],
      "source": [
        "emails_train.shape\n"
      ]
    },
    {
      "cell_type": "markdown",
      "metadata": {
        "colab_type": "text",
        "id": "W5cfcZhuIyyF"
      },
      "source": [
        "# Preprocessing"
      ]
    },
    {
      "cell_type": "code",
      "execution_count": 8,
      "metadata": {
        "colab": {
          "base_uri": "https://localhost:8080/",
          "height": 36
        },
        "colab_type": "code",
        "id": "UVDFx5cIIyyF",
        "outputId": "c566c50a-9e93-4b36-95e9-ca0840d07a15"
      },
      "outputs": [
        {
          "data": {
            "text/plain": [
              "'hello as per request from  ltgt  rs has been transfered to you'"
            ]
          },
          "execution_count": 8,
          "metadata": {},
          "output_type": "execute_result"
        }
      ],
      "source": [
        "def remove_hyperlink(word):\n",
        "    return  re.sub(r\"http\\S+\", \"\", word)\n",
        "\n",
        "def to_lower(word):\n",
        "    result = word.lower()\n",
        "    return result\n",
        "\n",
        "def remove_number(word):\n",
        "    result = re.sub(r'\\d+', '', word)\n",
        "    return result\n",
        "\n",
        "def remove_punctuation(word):\n",
        "    result = word.translate(str.maketrans(dict.fromkeys(string.punctuation)))\n",
        "    return result\n",
        "\n",
        "def remove_whitespace(word):\n",
        "    result = word.strip()\n",
        "    return result\n",
        "\n",
        "def replace_newline(word):\n",
        "    return word.replace('\\n','')\n",
        "\n",
        "\n",
        "\n",
        "def clean_up_pipeline(sentence):\n",
        "    cleaning_utils = [remove_hyperlink,\n",
        "                      replace_newline,\n",
        "                      to_lower,\n",
        "                      remove_number,\n",
        "                      remove_punctuation,remove_whitespace]\n",
        "    for o in cleaning_utils:\n",
        "        sentence = o(sentence)\n",
        "    return sentence\n",
        "\n",
        "x_train = [clean_up_pipeline(o) for o in emails_train]\n",
        "x_test = [clean_up_pipeline(o) for o in emails_test]\n",
        "\n",
        "x_train[0]\n"
      ]
    },
    {
      "cell_type": "code",
      "execution_count": 9,
      "metadata": {
        "colab": {},
        "colab_type": "code",
        "id": "J6m0KYITIyyI"
      },
      "outputs": [],
      "source": [
        "from sklearn.preprocessing import LabelEncoder\n",
        "le = LabelEncoder()\n",
        "train_y = le.fit_transform(target_train.values)\n",
        "test_y = le.transform(target_test.values)\n"
      ]
    },
    {
      "cell_type": "code",
      "execution_count": 10,
      "metadata": {
        "colab": {
          "base_uri": "https://localhost:8080/",
          "height": 35
        },
        "colab_type": "code",
        "id": "p8nTaChYIyyK",
        "outputId": "7d1dc3d4-00e1-4ffe-b44f-a372b6f2b234"
      },
      "outputs": [
        {
          "data": {
            "text/plain": [
              "array([0, 0, 0, ..., 0, 0, 0])"
            ]
          },
          "execution_count": 10,
          "metadata": {},
          "output_type": "execute_result"
        }
      ],
      "source": [
        "train_y"
      ]
    },
    {
      "cell_type": "markdown",
      "metadata": {
        "colab_type": "text",
        "id": "NQnP3LyeIyyN"
      },
      "source": [
        "# Tokenize"
      ]
    },
    {
      "cell_type": "code",
      "execution_count": 11,
      "metadata": {
        "colab": {},
        "colab_type": "code",
        "id": "hRfyW-pHIyyN"
      },
      "outputs": [],
      "source": [
        "## some config values \n",
        "embed_size = 100 # how big is each word vector\n",
        "max_feature = 50000 # how many unique words to use (i.e num rows in embedding vector)\n",
        "max_len = 2000 # max number of words in a question to use"
      ]
    },
    {
      "cell_type": "code",
      "execution_count": 12,
      "metadata": {
        "colab": {
          "base_uri": "https://localhost:8080/",
          "height": 35
        },
        "colab_type": "code",
        "id": "4pU9YkDwIyyQ",
        "outputId": "148519e4-a021-4f79-8ad1-a77d33e69943"
      },
      "outputs": [
        {
          "name": "stderr",
          "output_type": "stream",
          "text": [
            "C:\\Users\\mtaha\\AppData\\Local\\Temp\\ipykernel_23228\\784444456.py:6: VisibleDeprecationWarning: Creating an ndarray from ragged nested sequences (which is a list-or-tuple of lists-or-tuples-or ndarrays with different lengths or shapes) is deprecated. If you meant to do this, you must specify 'dtype=object' when creating the ndarray.\n",
            "  x_train_features = np.array(tokenizer.texts_to_sequences(x_train))\n",
            "C:\\Users\\mtaha\\AppData\\Local\\Temp\\ipykernel_23228\\784444456.py:7: VisibleDeprecationWarning: Creating an ndarray from ragged nested sequences (which is a list-or-tuple of lists-or-tuples-or ndarrays with different lengths or shapes) is deprecated. If you meant to do this, you must specify 'dtype=object' when creating the ndarray.\n",
            "  x_test_features = np.array(tokenizer.texts_to_sequences(x_test))\n"
          ]
        },
        {
          "data": {
            "text/plain": [
              "[240, 72, 206, 1303, 46, 44, 802, 118, 94, 1808, 2, 3]"
            ]
          },
          "execution_count": 12,
          "metadata": {},
          "output_type": "execute_result"
        }
      ],
      "source": [
        "from keras.preprocessing.text import Tokenizer\n",
        "tokenizer = Tokenizer(num_words=max_feature)\n",
        "\n",
        "tokenizer.fit_on_texts(x_train)\n",
        "\n",
        "x_train_features = np.array(tokenizer.texts_to_sequences(x_train))\n",
        "x_test_features = np.array(tokenizer.texts_to_sequences(x_test))\n",
        "\n",
        "x_train_features[0]\n"
      ]
    },
    {
      "cell_type": "markdown",
      "metadata": {
        "colab_type": "text",
        "id": "wYBAvFS-IyyT"
      },
      "source": [
        "# Padding"
      ]
    },
    {
      "cell_type": "code",
      "execution_count": 13,
      "metadata": {
        "colab": {
          "base_uri": "https://localhost:8080/",
          "height": 35
        },
        "colab_type": "code",
        "id": "J9qrzRgtIyyU",
        "outputId": "ac175ed2-c597-4ffa-8482-11005e43f204"
      },
      "outputs": [
        {
          "data": {
            "text/plain": [
              "array([   0,    0,    0, ..., 1808,    2,    3])"
            ]
          },
          "execution_count": 13,
          "metadata": {},
          "output_type": "execute_result"
        }
      ],
      "source": [
        "from tensorflow.keras.preprocessing.sequence import pad_sequences\n",
        "x_train_features = pad_sequences(x_train_features,maxlen=max_len)\n",
        "x_test_features = pad_sequences(x_test_features,maxlen=max_len)\n",
        "x_train_features[0]"
      ]
    },
    {
      "cell_type": "markdown",
      "metadata": {
        "colab_type": "text",
        "id": "cNJGhByLIyyZ"
      },
      "source": [
        "# Model"
      ]
    },
    {
      "cell_type": "code",
      "execution_count": 14,
      "metadata": {
        "colab": {},
        "colab_type": "code",
        "id": "2ppV2YhHIyyZ"
      },
      "outputs": [],
      "source": [
        "from keras.layers import Dense, Input, LSTM, Embedding, Dropout, Activation\n",
        "from keras.layers import Bidirectional\n",
        "from keras.models import Model"
      ]
    },
    {
      "cell_type": "code",
      "execution_count": 15,
      "metadata": {
        "colab": {
          "base_uri": "https://localhost:8080/",
          "height": 355
        },
        "colab_type": "code",
        "id": "1nXG9MfEKWzx",
        "outputId": "37a54edf-e617-4e58-8a53-af7e27d246ce"
      },
      "outputs": [
        {
          "name": "stdout",
          "output_type": "stream",
          "text": [
            "Model: \"sequential\"\n",
            "_________________________________________________________________\n",
            " Layer (type)                Output Shape              Param #   \n",
            "=================================================================\n",
            " embedding (Embedding)       (None, 2000, 32)          1600000   \n",
            "                                                                 \n",
            " bidirectional (Bidirectiona  (None, 128)              49664     \n",
            " l)                                                              \n",
            "                                                                 \n",
            " dense (Dense)               (None, 16)                2064      \n",
            "                                                                 \n",
            " dropout (Dropout)           (None, 16)                0         \n",
            "                                                                 \n",
            " dense_1 (Dense)             (None, 1)                 17        \n",
            "                                                                 \n",
            "=================================================================\n",
            "Total params: 1,651,745\n",
            "Trainable params: 1,651,745\n",
            "Non-trainable params: 0\n",
            "_________________________________________________________________\n",
            "None\n"
          ]
        }
      ],
      "source": [
        "# create the model\n",
        "import tensorflow as tf\n",
        "from keras.layers import Dense,LSTM, Embedding, Dropout, Activation, Bidirectional\n",
        "\n",
        "#size of the output vector from each layer\n",
        "embedding_vecor_length = 32\n",
        "\n",
        "#Creating a sequential model\n",
        "model = tf.keras.Sequential()\n",
        "\n",
        "#Creating an embedding layer to vectorize\n",
        "model.add(Embedding(max_feature, embedding_vecor_length, input_length=max_len))\n",
        "\n",
        "#Addding Bi-directional LSTM\n",
        "model.add(Bidirectional(tf.keras.layers.LSTM(64)))\n",
        "\n",
        "#Relu allows converging quickly and allows backpropagation\n",
        "model.add(Dense(16, activation='relu'))\n",
        "\n",
        "#Deep Learninng models can be overfit easily, to avoid this, we add randomization using drop out\n",
        "model.add(Dropout(0.1))\n",
        "\n",
        "#Adding sigmoid activation function to normalize the output\n",
        "model.add(Dense(1, activation='sigmoid'))\n",
        "\n",
        "\n",
        "model.compile(loss='binary_crossentropy', optimizer='adam', metrics=['accuracy'])\n",
        "print(model.summary())"
      ]
    },
    {
      "cell_type": "code",
      "execution_count": 16,
      "metadata": {
        "colab": {
          "base_uri": "https://localhost:8080/",
          "height": 728
        },
        "colab_type": "code",
        "id": "n_oFHNH6Iyye",
        "outputId": "5c6679ba-7125-4460-a8a1-3dc63b3e0f7a"
      },
      "outputs": [
        {
          "name": "stdout",
          "output_type": "stream",
          "text": [
            "Epoch 1/20\n",
            "3/3 [==============================] - 126s 36s/step - loss: 0.6833 - accuracy: 0.8503 - val_loss: 0.6577 - val_accuracy: 0.8502\n",
            "Epoch 2/20\n",
            "3/3 [==============================] - 127s 35s/step - loss: 0.6468 - accuracy: 0.8699 - val_loss: 0.6114 - val_accuracy: 0.8502\n",
            "Epoch 3/20\n",
            "3/3 [==============================] - 112s 31s/step - loss: 0.5938 - accuracy: 0.8699 - val_loss: 0.5379 - val_accuracy: 0.8502\n",
            "Epoch 4/20\n",
            "3/3 [==============================] - 99s 28s/step - loss: 0.5052 - accuracy: 0.8699 - val_loss: 0.4231 - val_accuracy: 0.8502\n",
            "Epoch 5/20\n",
            "3/3 [==============================] - 99s 27s/step - loss: 0.3899 - accuracy: 0.8699 - val_loss: 0.4598 - val_accuracy: 0.8502\n",
            "Epoch 6/20\n",
            "3/3 [==============================] - 101s 28s/step - loss: 0.4017 - accuracy: 0.8699 - val_loss: 0.4114 - val_accuracy: 0.8502\n",
            "Epoch 7/20\n",
            "3/3 [==============================] - 104s 30s/step - loss: 0.3667 - accuracy: 0.8699 - val_loss: 0.3925 - val_accuracy: 0.8502\n",
            "Epoch 8/20\n",
            "3/3 [==============================] - 105s 28s/step - loss: 0.3612 - accuracy: 0.8699 - val_loss: 0.3867 - val_accuracy: 0.8502\n",
            "Epoch 9/20\n",
            "3/3 [==============================] - 100s 27s/step - loss: 0.3578 - accuracy: 0.8699 - val_loss: 0.3721 - val_accuracy: 0.8502\n",
            "Epoch 10/20\n",
            "3/3 [==============================] - 87s 23s/step - loss: 0.3386 - accuracy: 0.8699 - val_loss: 0.3518 - val_accuracy: 0.8502\n",
            "Epoch 11/20\n",
            "3/3 [==============================] - 104s 28s/step - loss: 0.3119 - accuracy: 0.8699 - val_loss: 0.3332 - val_accuracy: 0.8502\n",
            "Epoch 12/20\n",
            "3/3 [==============================] - 105s 31s/step - loss: 0.2846 - accuracy: 0.8699 - val_loss: 0.2947 - val_accuracy: 0.8502\n",
            "Epoch 13/20\n",
            "3/3 [==============================] - 104s 30s/step - loss: 0.2407 - accuracy: 0.8699 - val_loss: 0.2409 - val_accuracy: 0.8502\n",
            "Epoch 14/20\n",
            "3/3 [==============================] - 97s 27s/step - loss: 0.1985 - accuracy: 0.8699 - val_loss: 0.2116 - val_accuracy: 0.8511\n",
            "Epoch 15/20\n",
            "3/3 [==============================] - 97s 27s/step - loss: 0.1734 - accuracy: 0.8977 - val_loss: 0.2027 - val_accuracy: 0.9184\n",
            "Epoch 16/20\n",
            "1/3 [=========>....................] - ETA: 1:38 - loss: 0.1634 - accuracy: 0.9434"
          ]
        }
      ],
      "source": [
        "history = model.fit(x_train_features, train_y, batch_size=2048, epochs=1, validation_data=(x_test_features, test_y))\n"
      ]
    },
    {
      "cell_type": "code",
      "execution_count": 17,
      "metadata": {
        "colab": {
          "base_uri": "https://localhost:8080/",
          "height": 295
        },
        "colab_type": "code",
        "id": "RpAgrydLNQ3G",
        "outputId": "b968afa0-1f0d-4ce5-95d0-cbde6390c8a0"
      },
      "outputs": [
        {
          "data": {
            "image/png": "[encoded data removed]",
            "text/plain": [
              "<Figure size 640x480 with 1 Axes>"
            ]
          },
          "metadata": {},
          "output_type": "display_data"
        }
      ],
      "source": [
        "from  matplotlib import pyplot as plt\n",
        "plt.plot(history.history['accuracy'])\n",
        "plt.plot(history.history['val_accuracy'])\n",
        "plt.title('model accuracy')\n",
        "plt.ylabel('accuracy')\n",
        "plt.xlabel('epoch')\n",
        "plt.legend(['train', 'test'], loc='upper left')\n",
        "plt.grid()\n",
        "plt.show()\n"
      ]
    },
    {
      "cell_type": "code",
      "execution_count": 77,
      "metadata": {
        "colab": {},
        "colab_type": "code",
        "id": "TzGF_hA4Jg3m"
      },
      "outputs": [],
      "source": [
        "from sklearn.metrics import confusion_matrix,f1_score, precision_score,recall_score"
      ]
    },
    {
      "cell_type": "code",
      "execution_count": 78,
      "metadata": {
        "colab": {},
        "colab_type": "code",
        "id": "gkJQ-yURJg3n"
      },
      "outputs": [
        {
          "name": "stdout",
          "output_type": "stream",
          "text": [
            "35/35 [==============================] - 8s 194ms/step\n"
          ]
        }
      ],
      "source": [
        "y_predict  = [1 if o>0.5 else 0 for o in model.predict(x_test_features)]"
      ]
    },
    {
      "cell_type": "code",
      "execution_count": 79,
      "metadata": {
        "colab": {},
        "colab_type": "code",
        "id": "gB21196PJg3o"
      },
      "outputs": [],
      "source": [
        "cf_matrix =confusion_matrix(test_y,y_predict)"
      ]
    },
    {
      "cell_type": "code",
      "execution_count": 80,
      "metadata": {
        "colab": {
          "base_uri": "https://localhost:8080/",
          "height": 295
        },
        "colab_type": "code",
        "id": "47vMs8s-maLQ",
        "outputId": "fceb3d63-e6f1-4396-a4c3-c051493805c7"
      },
      "outputs": [
        {
          "data": {
            "image/png": "[encoded data removed]",
            "text/plain": [
              "<Figure size 640x480 with 2 Axes>"
            ]
          },
          "metadata": {},
          "output_type": "display_data"
        }
      ],
      "source": [
        "import seaborn as sns\n",
        "import matplotlib.pyplot as plt     \n",
        "\n",
        "ax= plt.subplot()\n",
        "sns.heatmap(cf_matrix, annot=True, ax = ax,cmap='Blues',fmt=''); #annot=True to annotate cells\n",
        "\n",
        "# labels, title and ticks\n",
        "ax.set_xlabel('Predicted labels');\n",
        "ax.set_ylabel('True labels'); \n",
        "ax.set_title('Confusion Matrix'); \n",
        "ax.xaxis.set_ticklabels(['Not Spam', 'Spam']); ax.yaxis.set_ticklabels(['Not Spam', 'Spam']);"
      ]
    },
    {
      "cell_type": "code",
      "execution_count": 81,
      "metadata": {
        "colab": {},
        "colab_type": "code",
        "id": "kberNYWIJg3r"
      },
      "outputs": [],
      "source": [
        "tn, fp, fn, tp = confusion_matrix(test_y,y_predict).ravel()"
      ]
    },
    {
      "cell_type": "code",
      "execution_count": 50,
      "metadata": {},
      "outputs": [],
      "source": [
        "def preprocess_test_data(sentence):\n",
        "    sentence_cleaned = clean_up_pipeline(sentence)\n",
        "    sentence_sequence = np.array(tokenizer.texts_to_sequences([sentence_cleaned]))\n",
        "    sentence_padded = pad_sequences(sentence_sequence, maxlen=max_len)\n",
        "    return sentence_padded\n"
      ]
    },
    {
      "cell_type": "code",
      "execution_count": 56,
      "metadata": {},
      "outputs": [],
      "source": [
        "def paragraph_prediction(sentence):\n",
        "    preprocessed_sentence = preprocess_test_data(sentence)\n",
        "    prediction = model.predict(preprocessed_sentence)\n",
        "    if prediction>0.5:\n",
        "        return \"spam\"\n",
        "    else:\n",
        "        return \"not spam\""
      ]
    },
    {
      "cell_type": "code",
      "execution_count": 57,
      "metadata": {},
      "outputs": [
        {
          "name": "stdout",
          "output_type": "stream",
          "text": [
            "1/1 [==============================] - 0s 97ms/step\n"
          ]
        },
        {
          "data": {
            "text/plain": [
              "'not spam'"
            ]
          },
          "execution_count": 57,
          "metadata": {},
          "output_type": "execute_result"
        }
      ],
      "source": [
        "paragraph_prediction(\"Ok lar... Joking wif u oni...\")"
      ]
    },
    {
      "cell_type": "code",
      "execution_count": 82,
      "metadata": {
        "colab": {
          "base_uri": "https://localhost:8080/",
          "height": 68
        },
        "colab_type": "code",
        "id": "kshhXwFAJg3s",
        "outputId": "91b1d31b-ec7c-48cc-fef2-8d28fd31a397"
      },
      "outputs": [
        {
          "name": "stdout",
          "output_type": "stream",
          "text": [
            "Precision: 98.61%\n",
            "Recall: 94.67%\n",
            "F1 Score: 96.60%\n"
          ]
        }
      ],
      "source": [
        "print(\"Precision: {:.2f}%\".format(100 * precision_score(test_y, y_predict)))\n",
        "print(\"Recall: {:.2f}%\".format(100 * recall_score(test_y, y_predict)))\n",
        "print(\"F1 Score: {:.2f}%\".format(100 * f1_score(test_y,y_predict)))"
      ]
    },
    {
      "cell_type": "code",
      "execution_count": 83,
      "metadata": {
        "colab": {
          "base_uri": "https://localhost:8080/",
          "height": 34
        },
        "colab_type": "code",
        "id": "x8pacWZkJg3v",
        "outputId": "de04c7a1-3d2c-46bd-cacb-c985b2316527"
      },
      "outputs": [
        {
          "data": {
            "text/plain": [
              "0.9659863945578231"
            ]
          },
          "execution_count": 83,
          "metadata": {},
          "output_type": "execute_result"
        }
      ],
      "source": [
        "f1_score(test_y,y_predict)"
      ]
    }
  ],
  "metadata": {
    "colab": {
      "collapsed_sections": [
        "sOgIC9vgIyx5"
      ],
      "include_colab_link": true,
      "name": "SpamDetection.ipynb",
      "provenance": []
    },
    "kernelspec": {
      "display_name": "Python 3.10.8 64-bit (microsoft store)",
      "language": "python",
      "name": "python3"
    },
    "language_info": {
      "codemirror_mode": {
        "name": "ipython",
        "version": 3
      },
      "file_extension": ".py",
      "mimetype": "text/x-python",
      "name": "python",
      "nbconvert_exporter": "python",
      "pygments_lexer": "ipython3",
      "version": "3.10.undefined"
    },
    "vscode": {
      "interpreter": {
        "hash": "e6681442ecc2da6131f18ea571fe32e947df361c229205cee302a55c4ef6db07"
      }
    }
  },
  "nbformat": 4,
  "nbformat_minor": 0
}
